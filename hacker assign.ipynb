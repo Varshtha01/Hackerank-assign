{
 "cells": [
  {
   "cell_type": "code",
   "execution_count": 1,
   "id": "4034b2a9",
   "metadata": {},
   "outputs": [
    {
     "name": "stdout",
     "output_type": "stream",
     "text": [
      "1\n",
      "mallika 10 10 10\n",
      "mallika\n",
      "10.00\n"
     ]
    }
   ],
   "source": [
    "#que 1\n",
    "if __name__ == '__main__':\n",
    "    n = int(input())\n",
    "    student_marks = {}\n",
    "    for _ in range(n):\n",
    "        name, *line = input().split()\n",
    "        scores = list(map(float, line))\n",
    "        student_marks[name] = scores\n",
    "    query_name = input()\n",
    "\n",
    "    # Finding the percentage in Python - Hacker Rank Solution START\n",
    "    output = list(student_marks[query_name])\n",
    "    per = sum(output)/len(output);\n",
    "    print(\"%.2f\" % per);"
   ]
  },
  {
   "cell_type": "markdown",
   "id": "9363daa2",
   "metadata": {},
   "source": [
    "# "
   ]
  },
  {
   "cell_type": "code",
   "execution_count": 2,
   "id": "3ddff0e1",
   "metadata": {},
   "outputs": [
    {
     "name": "stdout",
     "output_type": "stream",
     "text": [
      "edyoda is good \n",
      "edyoda-is-good-\n"
     ]
    }
   ],
   "source": [
    "#que 2\n",
    "def split_and_join(line):\n",
    "    line = line.split(\" \")\n",
    "    line='-'.join(line)\n",
    "    return line\n",
    "\n",
    "if __name__ == '__main__':\n",
    "    line = input()\n",
    "    result = split_and_join(line)\n",
    "    print(result)\n"
   ]
  },
  {
   "cell_type": "code",
   "execution_count": 5,
   "id": "35eec7dd",
   "metadata": {},
   "outputs": [
    {
     "name": "stdout",
     "output_type": "stream",
     "text": [
      "3\n",
      "1 2 3\n",
      "4\n",
      "2 5 7 8\n",
      "1\n"
     ]
    }
   ],
   "source": [
    "#que 3\n",
    "num1 = int(input())\n",
    "setA = set(map(int, input().split()))\n",
    "num2 = int(input())\n",
    "setB = set(map(int, input().split()))\n",
    "\n",
    "print(len(setA.intersection(setB)))"
   ]
  },
  {
   "cell_type": "code",
   "execution_count": null,
   "id": "bd2c2330",
   "metadata": {},
   "outputs": [],
   "source": [
    "#que 4\n",
    "if __name__ == '__main__':\n",
    "    n = int(input())\n",
    "    arr = map(int, input().split())\n",
    "    a=max(arr)\n",
    "    c=arr.count(a)\n",
    "    for i in range(c):\n",
    "        arr.remove(a)\n",
    "    print(max(arr))"
   ]
  },
  {
   "cell_type": "code",
   "execution_count": 9,
   "id": "82dbad40",
   "metadata": {},
   "outputs": [
    {
     "data": {
      "text/plain": [
       "'edYOda'"
      ]
     },
     "execution_count": 9,
     "metadata": {},
     "output_type": "execute_result"
    }
   ],
   "source": [
    "#que 5\n",
    "def swap_case(s):\n",
    "    result = s.swapcase()\n",
    "    return result\n",
    "swap_case(\"EDyoDA\")\n"
   ]
  },
  {
   "cell_type": "code",
   "execution_count": 3,
   "id": "988e8d8e",
   "metadata": {},
   "outputs": [
    {
     "name": "stdout",
     "output_type": "stream",
     "text": [
      "2\n",
      "3\n",
      "5\n",
      "-1\n",
      "6\n"
     ]
    }
   ],
   "source": [
    "#que 6\n",
    "a = int(input())\n",
    "b = int(input())\n",
    "x=a+b\n",
    "y=a-b\n",
    "z=a*b\n",
    "print(x)\n",
    "print(y)\n",
    "print(z)\n"
   ]
  },
  {
   "cell_type": "code",
   "execution_count": 2,
   "id": "b12009c4",
   "metadata": {},
   "outputs": [
    {
     "name": "stdout",
     "output_type": "stream",
     "text": [
      "2\n",
      "3\n",
      "0\n",
      "0.6666666666666666\n"
     ]
    }
   ],
   "source": [
    "#que 7\n",
    "a = int(input())\n",
    "b = int(input())\n",
    "x = a//b\n",
    "y=a/b\n",
    "print(x)\n",
    "print(y)\n"
   ]
  },
  {
   "cell_type": "code",
   "execution_count": null,
   "id": "46008233",
   "metadata": {},
   "outputs": [],
   "source": [
    "#que 8\n",
    "n = int(input())\n",
    "if (n%2!=0):\n",
    "    print(\"Weird\")\n",
    "elif 2<=n<=5:\n",
    "    print(\"Not Weird\")\n",
    "elif 6<=n<=20:\n",
    "    print(\"Weird\")\n",
    "elif ((n%2==0) and n>20):\n",
    "    print(\"Not Weird\")\n"
   ]
  },
  {
   "cell_type": "code",
   "execution_count": null,
   "id": "09e89da8",
   "metadata": {},
   "outputs": [],
   "source": [
    "#que 9\n",
    "if __name__ == '__main__':\n",
    "    dic={}\n",
    "    s=list()\n",
    "    for _ in range(int(input())):\n",
    "        name = input()\n",
    "        score = float(input())\n",
    "        if score in dic:\n",
    "            dic[score].append(name)\n",
    "        else:\n",
    "            dic[score]=[name]\n",
    "        if score not in s:\n",
    "            s.append(score)\n",
    "    m=min(s)\n",
    "    s.remove(m)\n",
    "    m1=min(s)\n",
    "    dic[m1].sort()\n",
    "    for i in dic[m1]:\n",
    "        print(i)\n",
    "    "
   ]
  },
  {
   "cell_type": "code",
   "execution_count": null,
   "id": "38c80372",
   "metadata": {},
   "outputs": [],
   "source": [
    "#que 10\n",
    "n= int(input())\n",
    "for i in range(0,n):\n",
    "    print(i*i)\n"
   ]
  },
  {
   "cell_type": "code",
   "execution_count": null,
   "id": "eb3c8954",
   "metadata": {},
   "outputs": [],
   "source": [
    "#que 11\n",
    "def is_leap(year):\n",
    "    leap = True\n",
    "    \n",
    "    if ((year%400==0) or((year%4==0) and (year%100!=0))):\n",
    "     return leap\n",
    "    else:\n",
    "        return False\n",
    "\n"
   ]
  },
  {
   "cell_type": "code",
   "execution_count": null,
   "id": "1b40b1fb",
   "metadata": {},
   "outputs": [],
   "source": [
    "#que 12\n",
    "def count_substring(string, sub_string):\n",
    "    count=0\n",
    "    m=len(string)\n",
    "    s=len(sub_string)\n",
    "    for i in range(m+s-1):\n",
    "        if (string[i:(i+s)]==sub_string):\n",
    "            count+=1\n",
    "    return count\n",
    "\n"
   ]
  },
  {
   "cell_type": "code",
   "execution_count": null,
   "id": "5915513f",
   "metadata": {},
   "outputs": [],
   "source": [
    "#que 13\n",
    "if __name__ == '__main__':\n",
    "    n=int(input())\n",
    "    l=[]\n",
    "    for i in range(n):\n",
    "        k=input().split()\n",
    "        if k[0]=='insert':\n",
    "            l.insert(int(k[1]),int(k[2]))\n",
    "        elif k[0]=='print':\n",
    "            print(l)\n",
    "        elif k[0]=='remove':\n",
    "            l.remove(int(k[1]))\n",
    "        elif k[0]=='sort':\n",
    "            l.sort()\n",
    "        elif k[0]=='append':\n",
    "            l.append(int(k[1]))\n",
    "        elif k[0]=='pop':\n",
    "            l.pop()\n",
    "        else:\n",
    "            l.reverse()\n",
    "    \n",
    "     \n"
   ]
  }
 ],
 "metadata": {
  "kernelspec": {
   "display_name": "Python 3 (ipykernel)",
   "language": "python",
   "name": "python3"
  },
  "language_info": {
   "codemirror_mode": {
    "name": "ipython",
    "version": 3
   },
   "file_extension": ".py",
   "mimetype": "text/x-python",
   "name": "python",
   "nbconvert_exporter": "python",
   "pygments_lexer": "ipython3",
   "version": "3.9.7"
  }
 },
 "nbformat": 4,
 "nbformat_minor": 5
}
